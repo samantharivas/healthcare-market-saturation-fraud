{
 "cells": [
  {
   "cell_type": "markdown",
   "id": "c988869a",
   "metadata": {},
   "source": [
    "# Uncovering Healthcare Inefficiencies - Model Building and Evaluation\n",
    "\n",
    "This notebook focuses on building, training, and evaluating various models to determine the best performing model for our dataset.\n",
    "\n",
    "The models included in this notebook are:\n",
    "\n",
    "1. **Logistic Regression**: Used as the baseline model.\n",
    "2. **Ridge Classifier**: Classification model using L2 regularization.\n",
    "3. **Lasso Classifier**: Classification model using L1 regularization.\n",
    "4. **XGBoost**: Powerful gradient boosting framework.\n",
    "5. **Agglomerative Clustering**: Hierarchical clustering method.\n",
    "6. **DBSCAN**: Unsupervised clustering to identify clusters and noise.\n",
    "7. **Kmeans**: Another unsupervised clustering to identify clusters and noise.\n",
    "\n",
    "Each model undergoes the following steps:\n",
    "\n",
    "1. **Data Preprocessing**: Standardizing and preparing data.\n",
    "2. **Model Building**: Constructing model architecture.\n",
    "3. **Model Training**: Training the model.\n",
    "4. **Model Evaluation**: Assessing performance.\n",
    "5. **Results Analysis**: Comparing results to determine the best model.\n",
    "\n",
    "\n",
    "The objective is to identify the model that yields the best results in terms of accuracy and other relevant metrics. "
   ]
  },
  {
   "cell_type": "markdown",
   "id": "832db883-2ab1-42e5-ae63-18a0d0753abb",
   "metadata": {},
   "source": [
    "## Import Libaries"
   ]
  },
  {
   "cell_type": "code",
   "execution_count": 1,
   "id": "9f34cc5e",
   "metadata": {},
   "outputs": [],
   "source": [
    "# Import required libraries\n",
    "import pandas as pd\n",
    "import numpy as np\n",
    "import matplotlib.pyplot as plt\n",
    "import seaborn as sns\n",
    "import os\n",
    "\n",
    "from scipy.cluster.hierarchy import linkage\n",
    "\n",
    "from sklearn.linear_model import LogisticRegression, Ridge, Lasso\n",
    "from sklearn.metrics import accuracy_score, confusion_matrix, classification_report\n",
    "from sklearn.preprocessing import PowerTransformer, RobustScaler\n",
    "\n",
    "from xgboost import XGBClassifier\n",
    "from xgboost import plot_importance\n",
    "from sklearn.decomposition import PCA\n",
    "from sklearn.cluster import KMeans\n",
    "from sklearn.model_selection import GridSearchCV,  KFold, cross_val_score\n",
    "from sklearn.ensemble import AdaBoostClassifier, BaggingClassifier\n",
    "from sklearn.tree import DecisionTreeClassifier\n",
    "from sklearn.cluster import AgglomerativeClustering, DBSCAN\n",
    "from sklearn.metrics import accuracy_score, confusion_matrix, classification_report, silhouette_score, roc_curve, auc\n",
    "from sklearn.base import BaseEstimator, ClusterMixin\n",
    "from sklearn.model_selection import train_test_split\n",
    "from sklearn.svm import SVC\n",
    "import matplotlib.cm as cm\n",
    "from sklearn.metrics import silhouette_samples, silhouette_score\n",
    "\n",
    "import joblib\n",
    "\n",
    "from sklearn.preprocessing import StandardScaler\n",
    "\n",
    "import warnings\n",
    "warnings.simplefilter(action='ignore', category=FutureWarning) # supress warning "
   ]
  },
  {
   "cell_type": "code",
   "execution_count": 2,
   "id": "6d3cd24a",
   "metadata": {},
   "outputs": [
    {
     "name": "stdout",
     "output_type": "stream",
     "text": [
      "Current working directory: C:\\Users\\jessh\\Documents\\MS_Applied_Data_Science\\ADS599 Capstone Project\\Project\n"
     ]
    }
   ],
   "source": [
    "# Check current working directory\n",
    "current_directory = os.getcwd()\n",
    "print(\"Current working directory:\", current_directory)"
   ]
  },
  {
   "cell_type": "markdown",
   "id": "9dd07646",
   "metadata": {
    "hideCode": true,
    "hideOutput": true
   },
   "source": [
    "#### Import data from preprocessing notebook"
   ]
  },
  {
   "cell_type": "code",
   "execution_count": 3,
   "id": "cf93427b",
   "metadata": {},
   "outputs": [],
   "source": [
    "# Read in data\n",
    "# all the training/validation/test dataframes\n",
    "x_train = pd.read_csv('data/x_train.csv') \n",
    "x_train_scaled = pd.read_csv('data/x_train_scaled.csv')\n",
    "x_train_pca = pd.read_csv('data/x_train_pca.csv')\n",
    "x_train_scaled_pca = pd.read_csv('data/x_train_scaled_pca.csv')\n",
    "\n",
    "x_val = pd.read_csv('data/x_val.csv') \n",
    "x_val_scaled = pd.read_csv('data/x_val_scaled.csv')\n",
    "x_val_pca = pd.read_csv('data/x_val_pca.csv')\n",
    "x_val_scaled_pca = pd.read_csv('data/x_val_scaled_pca.csv')\n",
    "\n",
    "x_test = pd.read_csv('data/x_test.csv')\n",
    "x_test_scaled = pd.read_csv('data/x_test_scaled.csv')\n",
    "x_test_pca = pd.read_csv('data/x_test_pca.csv')\n",
    "x_test_scaled_pca = pd.read_csv('data/x_test_scaled_pca.csv')\n",
    "\n",
    "\n",
    "# all the labels\n",
    "y_train = np.ravel(pd.read_csv('data/y_train.csv'))\n",
    "y_val = np.ravel(pd.read_csv('data/y_val.csv'))\n",
    "y_test = np.ravel(pd.read_csv('data/y_test.csv'))"
   ]
  },
  {
   "cell_type": "markdown",
   "id": "2e8d9c92",
   "metadata": {},
   "source": [
    "## DataTransformation \n",
    "\n",
    "### Yeo Johnson transformation of data\n",
    "\n",
    "We wanted to add in additional dataframes to see if there was a difference in modeling performance. This Yeo-Johnson transformation was one of them, another would be to do transformation + scaling."
   ]
  },
  {
   "cell_type": "code",
   "execution_count": null,
   "id": "bd538566",
   "metadata": {},
   "outputs": [],
   "source": [
    "# transformed data\n",
    "# create copy of df \n",
    "x_train_transformed = x_train.copy()\n",
    "x_val_transformed = x_val.copy()\n",
    "x_test_transformed = x_test.copy()\n",
    "\n",
    "# get numeric columns\n",
    "numeric_columns = x_train_transformed.select_dtypes(include=['float']).columns\n",
    "\n",
    "def yeo_johnson_transform(column):\n",
    "    # Create an instance of PowerTransformer with Yeo-Johnson method\n",
    "    pt = PowerTransformer(method='yeo-johnson')\n",
    "    \n",
    "    # Reshape column for PowerTransformer which expects 2D input\n",
    "    column_reshaped = column.values.reshape(-1, 1)\n",
    "    \n",
    "    # Fit and transform the column\n",
    "    transformed_col = pt.fit_transform(column_reshaped)\n",
    "    \n",
    "    # Flatten the result to match original column shape\n",
    "    return transformed_col.flatten()\n",
    "\n",
    "# Apply Box-Cox transformation to each numeric column\n",
    "for col in numeric_columns:\n",
    "    x_train_transformed[col] = yeo_johnson_transform(x_train_transformed[col])\n",
    "    x_val_transformed[col] = yeo_johnson_transform(x_val_transformed[col])\n",
    "    x_test_transformed[col] = yeo_johnson_transform(x_test_transformed[col])\n"
   ]
  },
  {
   "cell_type": "markdown",
   "id": "6e87ee19",
   "metadata": {},
   "source": [
    "### Log transformed + scaled data"
   ]
  },
  {
   "cell_type": "code",
   "execution_count": null,
   "id": "87097630",
   "metadata": {},
   "outputs": [],
   "source": [
    "x_train_trans_scaled = x_train_transformed.copy()\n",
    "x_val_trans_scaled = x_val_transformed.copy()\n",
    "x_test_trans_scaled = x_test_transformed.copy()\n",
    "\n",
    "scaler = RobustScaler()\n",
    "x_train_trans_scaled[numeric_columns] = scaler.fit_transform(x_train_trans_scaled[numeric_columns])\n",
    "x_val_trans_scaled[numeric_columns] = scaler.transform(x_val_trans_scaled[numeric_columns])\n",
    "x_test_trans_scaled[numeric_columns] = scaler.transform(x_test_trans_scaled[numeric_columns])"
   ]
  },
  {
   "cell_type": "markdown",
   "id": "8ced5f2b",
   "metadata": {},
   "source": [
    "## Baseline Model Selection - Logistic Regression"
   ]
  },
  {
   "cell_type": "markdown",
   "id": "4461c82d",
   "metadata": {},
   "source": [
    "We'll first start by deciding on a baseline model for comparison against other models. The confusion matrix will be used to determine which dataframe will be ingested for each machine learning model. We currently have the following dataframes/data to feed into the logistic regression model:\n",
    "\n",
    "* The preprocessed data - x_train\n",
    "* The transformed data - x_train_tranformed\n",
    "* The scaled data - x_train_scaled\n",
    "* The transformed + scaled data - x_train_trans_scaled\n",
    "* The pca transformed data - x_train_pca\n",
    "* The scaled data + pca - x_train_scaled_pca\n",
    "\n",
    "Based on the results of the baseline regression model, we can choose a dataframe to carry through the modeling process."
   ]
  },
  {
   "cell_type": "markdown",
   "id": "a2985f35",
   "metadata": {},
   "source": [
    "### Create and train Logistic Regression Model for unscaled data\n",
    "\n",
    "This is the first model with the data that has been preprocessed but not scaled nor transformed for normality. The accuracy was terrible, the precision and F-score were non existant."
   ]
  },
  {
   "cell_type": "code",
   "execution_count": null,
   "id": "18a08832",
   "metadata": {},
   "outputs": [],
   "source": [
    "# logreg model\n",
    "model = LogisticRegression()\n",
    "\n",
    "# Train the model\n",
    "model.fit(x_train, y_train)\n",
    "\n",
    "# Evaluate the model on the validation set\n",
    "y_val_pred = model.predict(x_val)\n",
    "val_accuracy = accuracy_score(y_val, y_val_pred)\n",
    "val_confusion_matrix = confusion_matrix(y_val, y_val_pred)\n",
    "val_classification_report = classification_report(y_val, y_val_pred)\n",
    "\n",
    "print(f'Validation Accuracy: {val_accuracy}')\n",
    "print('Validation Confusion Matrix:')\n",
    "print(val_confusion_matrix)\n",
    "print('Validation Classification Report:')\n",
    "print(val_classification_report)\n",
    "\n",
    "\n",
    "# Evaluate the model on the test set\n",
    "y_test_pred = model.predict(x_test)\n",
    "test_accuracy = accuracy_score(y_test, y_test_pred)\n",
    "test_confusion_matrix = confusion_matrix(y_test, y_test_pred)\n",
    "test_classification_report = classification_report(y_test, y_test_pred)\n",
    "\n",
    "print(f'Test Accuracy: {test_accuracy}')\n",
    "print('Test Confusion Matrix:')\n",
    "print(test_confusion_matrix)\n",
    "print('Test Classification Report:')\n",
    "print(test_classification_report)"
   ]
  },
  {
   "cell_type": "markdown",
   "id": "1747ae41",
   "metadata": {},
   "source": [
    "### Create and train Logistic Regression Model for the scaled data\n",
    "\n",
    "This is the first model with the data that has been preprocessed and scaled, but not transformed for normality. The accuracy was 100%, leading us to believe that the model is overfit."
   ]
  },
  {
   "cell_type": "code",
   "execution_count": null,
   "id": "257255a1",
   "metadata": {},
   "outputs": [],
   "source": [
    "# logreg model\n",
    "model = LogisticRegression()\n",
    "\n",
    "# Train the model\n",
    "model.fit(x_train_scaled, y_train)\n",
    "\n",
    "# Evaluate the model on the validation set\n",
    "y_val_pred = model.predict(x_val_scaled)\n",
    "val_accuracy = accuracy_score(y_val, y_val_pred)\n",
    "val_confusion_matrix = confusion_matrix(y_val, y_val_pred)\n",
    "val_classification_report = classification_report(y_val, y_val_pred)\n",
    "\n",
    "print(f'Validation Accuracy: {val_accuracy}')\n",
    "print('Validation Confusion Matrix:')\n",
    "print(val_confusion_matrix)\n",
    "print('Validation Classification Report:')\n",
    "print(val_classification_report)\n",
    "\n",
    "\n",
    "# Evaluate the model on the test set\n",
    "y_test_pred = model.predict(x_test_scaled)\n",
    "test_accuracy = accuracy_score(y_test, y_test_pred)\n",
    "test_confusion_matrix = confusion_matrix(y_test, y_test_pred)\n",
    "test_classification_report = classification_report(y_test, y_test_pred)\n",
    "\n",
    "print(f'Test Accuracy: {test_accuracy}')\n",
    "print('Test Confusion Matrix:')\n",
    "print(test_confusion_matrix)\n",
    "print('Test Classification Report:')\n",
    "print(test_classification_report)"
   ]
  },
  {
   "cell_type": "markdown",
   "id": "690f2c69",
   "metadata": {},
   "source": [
    "### Create and train Logistic Regression Model for yeo-johnson transformed data\n",
    "\n",
    "This is the first model with the data that has been preprocessed and transformed, but not scaled. The accuracy was 100%, leading us to believe that the model is also overfit."
   ]
  },
  {
   "cell_type": "code",
   "execution_count": null,
   "id": "bd8ef62f",
   "metadata": {},
   "outputs": [],
   "source": [
    "# logreg model\n",
    "model = LogisticRegression()\n",
    "\n",
    "# Train the model\n",
    "model.fit(x_train_transformed, y_train)\n",
    "\n",
    "# Evaluate the model on the validation set\n",
    "y_val_pred = model.predict(x_val_transformed)\n",
    "val_accuracy = accuracy_score(y_val, y_val_pred)\n",
    "val_confusion_matrix = confusion_matrix(y_val, y_val_pred)\n",
    "val_classification_report = classification_report(y_val, y_val_pred)\n",
    "\n",
    "print(f'Validation Accuracy: {val_accuracy}')\n",
    "print('Validation Confusion Matrix:')\n",
    "print(val_confusion_matrix)\n",
    "print('Validation Classification Report:')\n",
    "print(val_classification_report)\n",
    "\n",
    "\n",
    "# Evaluate the model on the test set\n",
    "y_test_pred = model.predict(x_test_transformed)\n",
    "test_accuracy = accuracy_score(y_test, y_test_pred)\n",
    "test_confusion_matrix = confusion_matrix(y_test, y_test_pred)\n",
    "test_classification_report = classification_report(y_test, y_test_pred)\n",
    "\n",
    "print(f'Test Accuracy: {test_accuracy}')\n",
    "print('Test Confusion Matrix:')\n",
    "print(test_confusion_matrix)\n",
    "print('Test Classification Report:')\n",
    "print(test_classification_report)"
   ]
  },
  {
   "cell_type": "markdown",
   "id": "1fce41b5",
   "metadata": {},
   "source": [
    "### Create and train Logistic Regression Model for yeo-johnson transformed and scaled data\n",
    "\n",
    "This is the first model with the data that has been preprocessed, scaled, and transformed for normality. The accuracy was 100%, leading us to believe that the model is also overfit."
   ]
  },
  {
   "cell_type": "code",
   "execution_count": null,
   "id": "1a8b7521",
   "metadata": {},
   "outputs": [],
   "source": [
    "# logreg model\n",
    "model = LogisticRegression()\n",
    "\n",
    "# Train the model\n",
    "model.fit(x_train_trans_scaled, y_train)\n",
    "\n",
    "# Evaluate the model on the validation set\n",
    "y_val_pred = model.predict(x_val_trans_scaled)\n",
    "val_accuracy = accuracy_score(y_val, y_val_pred)\n",
    "val_confusion_matrix = confusion_matrix(y_val, y_val_pred)\n",
    "val_classification_report = classification_report(y_val, y_val_pred)\n",
    "\n",
    "print(f'Validation Accuracy: {val_accuracy}')\n",
    "print('Validation Confusion Matrix:')\n",
    "print(val_confusion_matrix)\n",
    "print('Validation Classification Report:')\n",
    "print(val_classification_report)\n",
    "\n",
    "\n",
    "# Evaluate the model on the test set\n",
    "y_test_pred = model.predict(x_test_trans_scaled)\n",
    "test_accuracy = accuracy_score(y_test, y_test_pred)\n",
    "test_confusion_matrix = confusion_matrix(y_test, y_test_pred)\n",
    "test_classification_report = classification_report(y_test, y_test_pred)\n",
    "\n",
    "print(f'Test Accuracy: {test_accuracy}')\n",
    "print('Test Confusion Matrix:')\n",
    "print(test_confusion_matrix)\n",
    "print('Test Classification Report:')\n",
    "print(test_classification_report)"
   ]
  },
  {
   "cell_type": "markdown",
   "id": "3d52b7ac",
   "metadata": {},
   "source": [
    "### Create and train Logistic Regression Model for the PCA transformed data (orig)\n",
    "\n",
    "This is the fifth model with the data that has been preprocessed, but not scaled nor transformed for normality. The accuracy was about 81%, which is the best model so far."
   ]
  },
  {
   "cell_type": "code",
   "execution_count": null,
   "id": "3ebc563c",
   "metadata": {},
   "outputs": [],
   "source": [
    "# logreg model\n",
    "model = LogisticRegression()\n",
    "\n",
    "# Train the model\n",
    "model.fit(x_train_pca, y_train)\n",
    "\n",
    "# Evaluate the model on the validation set\n",
    "y_val_pred = model.predict(x_val_pca)\n",
    "val_accuracy = accuracy_score(y_val, y_val_pred)\n",
    "val_confusion_matrix = confusion_matrix(y_val, y_val_pred)\n",
    "val_classification_report = classification_report(y_val, y_val_pred)\n",
    "\n",
    "print(f'Validation Accuracy: {val_accuracy}')\n",
    "print('Validation Confusion Matrix:')\n",
    "print(val_confusion_matrix)\n",
    "print('Validation Classification Report:')\n",
    "print(val_classification_report)\n",
    "\n",
    "\n",
    "# Evaluate the model on the test set\n",
    "y_test_pred = model.predict(x_test_pca)\n",
    "test_accuracy = accuracy_score(y_test, y_test_pred)\n",
    "test_confusion_matrix = confusion_matrix(y_test, y_test_pred)\n",
    "test_classification_report = classification_report(y_test, y_test_pred)\n",
    "\n",
    "print(f'Test Accuracy: {test_accuracy}')\n",
    "print('Test Confusion Matrix:')\n",
    "print(test_confusion_matrix)\n",
    "print('Test Classification Report:')\n",
    "print(test_classification_report)"
   ]
  },
  {
   "cell_type": "markdown",
   "id": "d1b0b7d7",
   "metadata": {},
   "source": [
    "### Create and train Logistic Regression Model for the PCA transformed data (scaled)\n",
    "\n",
    "This is the sixth model with the data that has been preprocessed and scaled, but not transformed for normality. The accuracy was about 82%, which is the best model so far beating the previous model."
   ]
  },
  {
   "cell_type": "code",
   "execution_count": 6,
   "id": "e0cfd633",
   "metadata": {},
   "outputs": [
    {
     "name": "stdout",
     "output_type": "stream",
     "text": [
      "Validation Accuracy: 0.8236739800706019\n",
      "Validation Confusion Matrix:\n",
      "[[107864   8967]\n",
      " [ 18655  21167]]\n",
      "Validation Classification Report:\n",
      "              precision    recall  f1-score   support\n",
      "\n",
      "           0       0.85      0.92      0.89    116831\n",
      "           1       0.70      0.53      0.61     39822\n",
      "\n",
      "    accuracy                           0.82    156653\n",
      "   macro avg       0.78      0.73      0.75    156653\n",
      "weighted avg       0.81      0.82      0.81    156653\n",
      "\n",
      "Test Accuracy: 0.82516245994357\n",
      "Test Confusion Matrix:\n",
      "[[108066   8766]\n",
      " [ 18623  21199]]\n",
      "Test Classification Report:\n",
      "              precision    recall  f1-score   support\n",
      "\n",
      "           0       0.85      0.92      0.89    116832\n",
      "           1       0.71      0.53      0.61     39822\n",
      "\n",
      "    accuracy                           0.83    156654\n",
      "   macro avg       0.78      0.73      0.75    156654\n",
      "weighted avg       0.82      0.83      0.82    156654\n",
      "\n"
     ]
    }
   ],
   "source": [
    "# logreg model\n",
    "logreg_model = LogisticRegression(random_state = 42)\n",
    "\n",
    "# Train the model\n",
    "logreg_model.fit(x_train_scaled_pca, y_train)\n",
    "\n",
    "# Evaluate the model on the validation set\n",
    "y_val_pred = logreg_model.predict(x_val_scaled_pca)\n",
    "val_accuracy = accuracy_score(y_val, y_val_pred)\n",
    "val_confusion_matrix = confusion_matrix(y_val, y_val_pred)\n",
    "val_classification_report = classification_report(y_val, y_val_pred)\n",
    "\n",
    "print(f'Validation Accuracy: {val_accuracy}')\n",
    "print('Validation Confusion Matrix:')\n",
    "print(val_confusion_matrix)\n",
    "print('Validation Classification Report:')\n",
    "print(val_classification_report)\n",
    "\n",
    "\n",
    "# Evaluate the model on the test set\n",
    "y_test_pred = logreg_model.predict(x_test_scaled_pca)\n",
    "test_accuracy = accuracy_score(y_test, y_test_pred)\n",
    "test_confusion_matrix = confusion_matrix(y_test, y_test_pred)\n",
    "test_classification_report = classification_report(y_test, y_test_pred)\n",
    "\n",
    "print(f'Test Accuracy: {test_accuracy}')\n",
    "print('Test Confusion Matrix:')\n",
    "print(test_confusion_matrix)\n",
    "print('Test Classification Report:')\n",
    "print(test_classification_report)"
   ]
  },
  {
   "cell_type": "markdown",
   "id": "468ab45a-27f0-4cad-ab0e-45d49b5988f3",
   "metadata": {},
   "source": [
    "We opted to use PCA-transformed and scaled data for creating and training our Logistic Regression model for several compelling reasons:\n",
    "\n",
    "1. **Dimensionality Reduction**:\n",
    "   - **Principal Component Analysis (PCA)** is a powerful technique used to reduce the dimensionality of our dataset while retaining the most important information. This helps in eliminating redundant and less informative features, leading to a more efficient and interpretable model.\n",
    "\n",
    "2. **Feature Scaling**:\n",
    "   - Scaling our data ensures that all features contribute equally to the model. Logistic Regression, like many machine learning algorithms, performs better when the data is normalized, preventing features with larger scales from dominating the model training process.\n",
    "\n",
    "3. **Model Performance**:\n",
    "   - The Logistic Regression model trained on PCA-transformed and scaled data achieved an accuracy of about 82%. This is a significant improvement over previous models and is currently our best-performing model. The use of PCA likely helped in capturing the underlying structure of the data more effectively.\n",
    "\n",
    "4. **Overfitting Reduction**:\n",
    "   - By reducing the number of features, PCA helps in minimizing the risk of overfitting. Overfitting occurs when the model is too complex and captures noise in the data, rather than the actual underlying pattern. PCA helps in addressing this by simplifying the feature set.\n",
    "\n",
    "5. **Computational Efficiency**:\n",
    "   - With fewer features after PCA, the computational cost of training the Logistic Regression model decreases. This makes the model training process faster and more resource-efficient, which is particularly beneficial when dealing with large datasets.\n",
    "\n",
    "Using PCA-transformed and scaled data has led to a significant improvement in model accuracy and overall performance, justifying our decision to incorporate these preprocessing steps in our modeling pipeline. The 82% accuracy stands as evidence to the effectiveness of this approach.\n"
   ]
  },
  {
   "cell_type": "markdown",
   "id": "92908dd3",
   "metadata": {},
   "source": [
    "## Accuracy Scores for supervised models\n",
    "\n",
    "| Model | Parameters | Dataset | Accuracy |\n",
    "| --- | --- | --- | --- |\n",
    "| Ridge | Default | 5-Fold Validation | 0.73 (average)|\n",
    "|  | Default | Single Validation |  0.82 |\n",
    "|  | Default | Test |  0.83 |\n",
    "|  | Tuned | Validation |   0.82 |\n",
    "|  | Test | Test |  0.83 |\n",
    "| Lasso | Default | 5-Fold Validation |  0.73 (average)|\n",
    "|  | Default | Single Validation |  0.82 |\n",
    "|  | Default | Test |  0.83 |\n",
    "|  | Tuned | Single Validation |  0.82 |\n",
    "|  | Tuned | Test |  0.83 |\n",
    "| XGBoost | Tuned | Validation |  0.88 |\n",
    "|  | Tuned | Test |  0.88 |\n",
    "| Agglomerative Clustering | Tuned | Validation |  0.74 |\n",
    "|  | Tuned | Test |  0.73 |\n",
    "| DBSCAN | Tuned | Validation |  0.74 |\n",
    "|  | Tuned | Test |  0.73 |\n",
    "| AdaBoost | Default | Validation |  0.76 |\n",
    "|  | Default | Test |  0.76 |\n",
    "| SVM | Default | Validation |  0.84 |\n",
    "|  | Default | Test |  0.85 |\n",
    "\n"
   ]
  },
  {
   "cell_type": "markdown",
   "id": "97352699",
   "metadata": {},
   "source": [
    "The best model would be the XGboost model with a 88% accuracy. This will be the model that will be deployed with flask. The code below documents how we built the model and tuned parameters for each model."
   ]
  },
  {
   "cell_type": "markdown",
   "id": "5ae71a30-46f4-4479-9b5f-7a0071d640a6",
   "metadata": {},
   "source": [
    "## XGBoost "
   ]
  },
  {
   "cell_type": "code",
   "execution_count": null,
   "id": "03656369-937a-4b1e-b7ba-3b3fbe8d0c2d",
   "metadata": {},
   "outputs": [],
   "source": [
    "# define the parameter grid\n",
    "param_grid_xgb = {\n",
    "    'n_estimators': [100, 200, 300],\n",
    "    'max_depth': [3, 4, 5],\n",
    "    'learning_rate': [0.01, 0.1, 0.2],\n",
    "    'subsample': [0.8, 0.9, 1.0],\n",
    "    'colsample_bytree': [0.8, 0.9, 1.0]\n",
    "}\n",
    "\n",
    "\n",
    "# initialize the XGBoost classifier\n",
    "xgb_model = XGBClassifier()\n",
    "\n",
    "# setup GridSearchCV\n",
    "grid_search_xgb = GridSearchCV(estimator=xgb_model, \n",
    "                               param_grid=param_grid_xgb, \n",
    "                               scoring='accuracy', \n",
    "                               cv=3, n_jobs=2, verbose=2)"
   ]
  },
  {
   "cell_type": "code",
   "execution_count": null,
   "id": "ac6b63ce-e11e-44b6-ac6c-1c3c3eff0508",
   "metadata": {},
   "outputs": [],
   "source": [
    "# fit the model\n",
    "grid_search_xgb.fit(x_train_scaled_pca, y_train)"
   ]
  },
  {
   "cell_type": "code",
   "execution_count": null,
   "id": "db152eef-9e1b-48f3-a2d0-7d2fb37506af",
   "metadata": {},
   "outputs": [],
   "source": [
    "# best parameters and best score\n",
    "best_params_xgb = grid_search_xgb.best_params_\n",
    "best_score_xgb = grid_search_xgb.best_score_\n",
    "\n",
    "print(f'Best Parameters for XGBoost: {best_params_xgb}')\n",
    "print(f'Best Cross-Validation Score: {best_score_xgb}')"
   ]
  },
  {
   "cell_type": "code",
   "execution_count": null,
   "id": "f1e5f422-fd7a-4030-a8c9-8926565c83d3",
   "metadata": {},
   "outputs": [],
   "source": [
    "# evaluate on validation set\n",
    "xgb_best_model = grid_search_xgb.best_estimator_\n",
    "y_val_pred = xgb_best_model.predict(x_val_scaled_pca)\n",
    "val_accuracy = accuracy_score(y_val, y_val_pred)\n",
    "val_confusion_matrix = confusion_matrix(y_val, y_val_pred)\n",
    "val_classification_report = classification_report(y_val, y_val_pred)\n",
    "\n",
    "print(f'XGBoost Validation Accuracy: {val_accuracy}')\n",
    "print('XGBoost Validation Confusion Matrix:')\n",
    "print(val_confusion_matrix)\n",
    "print('XGBoost Validation Classification Report:')\n",
    "print(val_classification_report)"
   ]
  },
  {
   "cell_type": "code",
   "execution_count": null,
   "id": "af6f2219-6c77-4b0a-9ad1-d1a1c26280fd",
   "metadata": {},
   "outputs": [],
   "source": [
    "# evaluate on test set\n",
    "y_test_pred = xgb_best_model.predict(x_test_scaled_pca)\n",
    "test_accuracy = accuracy_score(y_test, y_test_pred)\n",
    "test_confusion_matrix = confusion_matrix(y_test, y_test_pred)\n",
    "test_classification_report = classification_report(y_test, y_test_pred)\n",
    "\n",
    "print(f'XGBoost Test Accuracy: {test_accuracy}')\n",
    "print('XGBoost Test Confusion Matrix:')\n",
    "print(test_confusion_matrix)\n",
    "print('XGBoost Test Classification Report:')\n",
    "print(test_classification_report)"
   ]
  },
  {
   "cell_type": "code",
   "execution_count": null,
   "id": "014e466a-26ca-4cce-b53d-67f667fce7e4",
   "metadata": {},
   "outputs": [],
   "source": [
    "# plot feature importance\n",
    "plt.figure(figsize=(10, 8))\n",
    "plot_importance(xgb_best_model, importance_type='weight')\n",
    "plt.title('Feature Importance for XGBoost Model')\n",
    "plt.show()"
   ]
  },
  {
   "cell_type": "code",
   "execution_count": null,
   "id": "8a78aa14-1996-4384-a215-45c5b478b1cd",
   "metadata": {},
   "outputs": [],
   "source": [
    "# ensure the models folder exists\n",
    "os.makedirs('models', exist_ok=True)\n",
    "\n",
    "# save tuned XGBoost model\n",
    "xgb_best_model_path = 'xgb_best_model.joblib'\n",
    "joblib.dump(xgb_best_model, xgb_best_model_path)\n",
    "\n",
    "print(f'Tuned XGBoost model saved at: {xgb_best_model_path}')"
   ]
  },
  {
   "cell_type": "code",
   "execution_count": null,
   "id": "676af1b8",
   "metadata": {},
   "outputs": [],
   "source": []
  },
  {
   "cell_type": "markdown",
   "id": "48383090-e2ac-4074-b60a-5bd29a2ced41",
   "metadata": {},
   "source": [
    "##  Agglomerative Clustering"
   ]
  },
  {
   "cell_type": "code",
   "execution_count": null,
   "id": "ea3ceff2-3861-4b8b-9f87-937eac74a3e7",
   "metadata": {},
   "outputs": [],
   "source": [
    "# reduce datasize for agglomerative clustering and DBSCAN \n",
    "\n",
    "# function to reduce dataset size\n",
    "def reduce_dataset(x, y, sample_size):\n",
    "    np.random.seed(42)\n",
    "    indices = np.random.choice(x.shape[0], size=sample_size, replace=False)\n",
    "    return x[indices], y[indices]\n",
    "\n",
    "# convert data to np.float32\n",
    "x_train_np = x_train_scaled_pca.astype(np.float32).to_numpy()\n",
    "x_val_np = x_val_scaled_pca.astype(np.float32).to_numpy()\n",
    "x_test_np = x_test_scaled_pca.astype(np.float32).to_numpy()\n",
    "\n",
    "# sample the data\n",
    "sample_size = 25000\n",
    "x_train_sampled, y_train_sampled = reduce_dataset(x_train_np, y_train, sample_size)\n",
    "x_val_sampled, y_val_sampled = reduce_dataset(x_val_np, y_val, sample_size)\n",
    "x_test_sampled, y_test_sampled = reduce_dataset(x_test_np, y_test, sample_size)"
   ]
  },
  {
   "cell_type": "code",
   "execution_count": null,
   "id": "8c711cb3-b246-469b-8616-5e657d1554b0",
   "metadata": {},
   "outputs": [],
   "source": [
    "# define the parameter grid for the number of clusters\n",
    "param_grid_agg = {'n_clusters': [2, 3, 4, 5, 6]}\n",
    "\n",
    "# initialize the AgglomerativeClustering model\n",
    "agg_model = AgglomerativeClustering()\n",
    "\n",
    "# define a custom scoring function using silhouette score\n",
    "def silhouette_scorer(estimator, X):\n",
    "    labels = estimator.fit_predict(X)\n",
    "    score = silhouette_score(X, labels)\n",
    "    return score\n",
    "\n",
    "# setup GridSearchCV with silhouette scorer\n",
    "grid_search_agg = GridSearchCV(estimator=agg_model, param_grid=param_grid_agg, \n",
    "                               scoring=silhouette_scorer, cv=3, n_jobs=-2, verbose=2)\n"
   ]
  },
  {
   "cell_type": "code",
   "execution_count": null,
   "id": "4a893c73-5a36-4479-b4f5-987cb20b5f8f",
   "metadata": {},
   "outputs": [],
   "source": [
    "# fit the model\n",
    "grid_search_agg.fit(x_train_sampled)"
   ]
  },
  {
   "cell_type": "code",
   "execution_count": null,
   "id": "ca306139-c2de-4dc4-9bf2-41dbe0a340e7",
   "metadata": {},
   "outputs": [],
   "source": [
    "# best parameters and best score\n",
    "best_params_agg = grid_search_agg.best_params_\n",
    "best_score_agg = grid_search_agg.best_score_\n",
    "\n",
    "print(f'Best Parameters for Agglomerative Clustering: {best_params_agg}')\n",
    "print(f'Best Cross-Validation Score: {best_score_agg}')"
   ]
  },
  {
   "cell_type": "code",
   "execution_count": null,
   "id": "9e16509e-785b-4823-b5a1-12ee4eec882c",
   "metadata": {},
   "outputs": [],
   "source": [
    "# evaluate on validation set\n",
    "agg_best_model = grid_search_agg.best_estimator_\n",
    "y_val_pred = agg_best_model.fit_predict(x_val_sampled)\n",
    "val_accuracy = accuracy_score(y_val_sampled, y_val_pred)\n",
    "val_confusion_matrix = confusion_matrix(y_val_sampled, y_val_pred)\n",
    "val_classification_report = classification_report(y_val_sampled, y_val_pred)\n",
    "\n",
    "print(f'Agglomerative Clustering Validation Accuracy: {val_accuracy}')\n",
    "print('Agglomerative Clustering Validation Confusion Matrix:')\n",
    "print(val_confusion_matrix)\n",
    "print('Agglomerative Clustering Validation Classification Report:')\n",
    "print(val_classification_report)"
   ]
  },
  {
   "cell_type": "code",
   "execution_count": null,
   "id": "f9337e65-6820-4861-91bf-fca8ec27aa08",
   "metadata": {},
   "outputs": [],
   "source": [
    "# evaluate on test set\n",
    "y_test_pred = agg_best_model.fit_predict(x_test_sampled)\n",
    "test_accuracy = accuracy_score(y_test_sampled, y_test_pred)\n",
    "test_confusion_matrix = confusion_matrix(y_test_sampled, y_test_pred)\n",
    "test_classification_report = classification_report(y_test_sampled, y_test_pred)\n",
    "\n",
    "print(f'Agglomerative Clustering Test Accuracy: {test_accuracy}')\n",
    "print('Agglomerative Clustering Test Confusion Matrix:')\n",
    "print(test_confusion_matrix)\n",
    "print('Agglomerative Clustering Test Classification Report:')\n",
    "print(test_classification_report)"
   ]
  },
  {
   "cell_type": "code",
   "execution_count": null,
   "id": "e131a1d6-d738-4f68-9324-669e93b56fdc",
   "metadata": {},
   "outputs": [],
   "source": [
    "# compute the silhouette scores for each sample\n",
    "agglo_labels = y_val_pred \n",
    "silhouette_avg_agglo = silhouette_score(x_val_sampled, agglo_labels)\n",
    "sample_silhouette_values_agglo = silhouette_samples(x_val_sampled, agglo_labels)\n",
    "\n",
    "fig, ax1 = plt.subplots(1, 1)\n",
    "fig.set_size_inches(18, 7)\n",
    "\n",
    "# silhouette coefficient - focus on 0 to 1\n",
    "ax1.set_xlim([-0.1, 1])\n",
    "ax1.set_ylim([0, len(x_val_sampled) + (len(np.unique(agglo_labels)) + 1) * 10])\n",
    "\n",
    "y_lower = 10\n",
    "for i in range(len(np.unique(agglo_labels))):\n",
    "    ith_cluster_silhouette_values = sample_silhouette_values_agglo[agglo_labels == i]\n",
    "    ith_cluster_silhouette_values.sort()\n",
    "\n",
    "    size_cluster_i = ith_cluster_silhouette_values.shape[0]\n",
    "    y_upper = y_lower + size_cluster_i\n",
    "\n",
    "    color = cm.nipy_spectral(float(i) / len(np.unique(agglo_labels)))\n",
    "    ax1.fill_betweenx(np.arange(y_lower, y_upper), 0, ith_cluster_silhouette_values,\n",
    "                      facecolor=color, edgecolor=color, alpha=0.7)\n",
    "    ax1.text(-0.05, y_lower + 0.5 * size_cluster_i, str(i))\n",
    "\n",
    "    # compute  new y_lower for next plot\n",
    "    y_lower = y_upper + 10  # 10 for the 0 samples\n",
    "\n",
    "ax1.set_title(\"Silhouette plot for Agglomerative Clustering\")\n",
    "ax1.set_xlabel(\"Silhouette coefficient values\")\n",
    "ax1.set_ylabel(\"Cluster label\")\n",
    "\n",
    "# vertical line for average silhouette score of all the values\n",
    "ax1.axvline(x=silhouette_avg_agglo, color=\"red\", linestyle=\"--\")\n",
    "\n",
    "ax1.set_yticks([]) \n",
    "ax1.set_xticks(np.arange(-0.1, 1.1, 0.1))\n",
    "\n",
    "plt.show()"
   ]
  },
  {
   "cell_type": "code",
   "execution_count": null,
   "id": "b257a153-d59a-48f1-a28a-51d78b4ca626",
   "metadata": {},
   "outputs": [],
   "source": [
    "# save tuned Agglomerative Clustering model\n",
    "agg_best_model_path = 'models/agg_best_model.pkl'\n",
    "joblib.dump(agg_best_model, agg_best_model_path)\n",
    "\n",
    "print(f'Tuned Agglomerative Clustering model saved at: {agg_best_model_path}')"
   ]
  },
  {
   "cell_type": "markdown",
   "id": "e35bb36c-4314-41ad-9aff-21fb083300c1",
   "metadata": {},
   "source": [
    "## Density-Based Spatial Clustering of Applications with Noise (DBSCAN)"
   ]
  },
  {
   "cell_type": "code",
   "execution_count": null,
   "id": "ca65039b",
   "metadata": {},
   "outputs": [],
   "source": [
    "# define silhouette scorer\n",
    "class SilhouetteScorer:\n",
    "    def __init__(self, X):\n",
    "        self.X = X\n",
    "\n",
    "    def __call__(self, estimator, X=None):\n",
    "        labels = estimator.fit_predict(self.X)\n",
    "        num_clusters = len(set(labels)) - (1 if -1 in labels else 0)\n",
    "        if num_clusters > 1:\n",
    "            return silhouette_score(self.X, labels)\n",
    "        else:\n",
    "            return -1 \n",
    "        \n",
    "# define the parameter grid for DBSCAN\n",
    "param_grid_dbscan = {\n",
    "    'eps': [0.2, 0.3, 0.4, 0.5, 0.6, 0.7, 0.8],\n",
    "    'min_samples': [3, 5, 7, 10, 15]\n",
    "}\n",
    "\n",
    "# initialize the DBSCAN model\n",
    "dbscan_model = DBSCAN()\n",
    "\n",
    "# create the silhouette scorer\n",
    "silhouette_scorer = SilhouetteScorer(X=x_train_sampled)\n",
    "\n",
    "# setup GridSearchCV\n",
    "grid_search_dbscan = GridSearchCV(estimator=dbscan_model, param_grid=param_grid_dbscan, \n",
    "                                  scoring=silhouette_scorer, cv=3, n_jobs=-1, verbose=2)"
   ]
  },
  {
   "cell_type": "code",
   "execution_count": null,
   "id": "1882dedc-4ab4-457c-aff4-792adb44facc",
   "metadata": {},
   "outputs": [],
   "source": [
    "# fit the model\n",
    "grid_search_dbscan.fit(x_train_sampled)"
   ]
  },
  {
   "cell_type": "code",
   "execution_count": null,
   "id": "baffb54a-ef49-4e28-8eb4-221ec56ed798",
   "metadata": {},
   "outputs": [],
   "source": [
    "# best parameters and best score\n",
    "best_params_dbscan = grid_search_dbscan.best_params_\n",
    "best_score_dbscan = grid_search_dbscan.best_score_\n",
    "\n",
    "print(f'Best Parameters for DBSCAN: {best_params_dbscan}')\n",
    "print(f'Best Cross-Validation Score: {best_score_dbscan}')"
   ]
  },
  {
   "cell_type": "code",
   "execution_count": null,
   "id": "1161b917-7df9-4c9d-8045-49dc7fe33270",
   "metadata": {},
   "outputs": [],
   "source": [
    "# evaluate on validation set\n",
    "dbscan_best_model = grid_search_dbscan.best_estimator_\n",
    "y_val_pred = dbscan_best_model.fit_predict(x_val_sampled)"
   ]
  },
  {
   "cell_type": "code",
   "execution_count": null,
   "id": "5fd02f5f-5739-4dda-8e4a-e597212a1cfb",
   "metadata": {},
   "outputs": [],
   "source": [
    "# calculate silhouette score\n",
    "silhouette_avg = silhouette_score(x_val_sampled, y_val_pred)\n",
    "\n",
    "print(f'DBSCAN Validation Silhouette Score: {silhouette_avg}')\n",
    "\n",
    "val_accuracy = accuracy_score(y_val_sampled, y_val_pred)\n",
    "val_confusion_matrix = confusion_matrix(y_val_sampled, y_val_pred)\n",
    "val_classification_report = classification_report(y_val_sampled, y_val_pred, zero_division=0)\n",
    "\n",
    "print(f'DBSCAN Validation Accuracy: {val_accuracy}')\n",
    "print('DBSCAN Validation Confusion Matrix:')\n",
    "print(val_confusion_matrix)\n",
    "print('DBSCAN Validation Classification Report:')\n",
    "print(val_classification_report)"
   ]
  },
  {
   "cell_type": "code",
   "execution_count": null,
   "id": "4e459ca8-216e-46d9-96ba-b0a3ab2ea0e4",
   "metadata": {},
   "outputs": [],
   "source": [
    "# evaluate on test set\n",
    "y_test_pred = dbscan_best_model.fit_predict(x_test_sampled)\n",
    "test_accuracy = accuracy_score(y_test_sampled, y_test_pred)\n",
    "test_confusion_matrix = confusion_matrix(y_test_sampled, y_test_pred)\n",
    "test_classification_report = classification_report(y_test_sampled, y_test_pred, zero_division=0)\n",
    "\n",
    "# calculate silhouette score\n",
    "silhouette_avg = silhouette_score(x_test_sampled, y_test_pred)\n",
    "\n",
    "print(f'DBSCAN Validation Silhouette Score: {silhouette_avg}')\n",
    "\n",
    "print(f'DBSCAN Test Accuracy: {test_accuracy}')\n",
    "print('DBSCAN Test Confusion Matrix:')\n",
    "print(test_confusion_matrix)\n",
    "print('DBSCAN Test Classification Report:')\n",
    "print(test_classification_report)"
   ]
  },
  {
   "cell_type": "code",
   "execution_count": null,
   "id": "d4c539bf-4cdf-416b-85bb-bef58cda4df4",
   "metadata": {},
   "outputs": [],
   "source": [
    "# extract the cluster labels\n",
    "labels = dbscan_best_model.fit_predict(x_val_sampled)\n",
    "\n",
    "# number of clusters in labels, ignoring noise if present.\n",
    "n_clusters_ = len(set(labels)) - (1 if -1 in labels else 0)\n",
    "n_noise_ = list(labels).count(-1)\n",
    "\n",
    "# plot the clustered data\n",
    "unique_labels = set(labels)\n",
    "colors = [plt.cm.Spectral(each) for each in np.linspace(0, 1, len(unique_labels))]\n",
    "for k, col in zip(unique_labels, colors):\n",
    "    if k == -1:\n",
    "        # Black used for noise.\n",
    "        col = [0, 0, 0, 1]\n",
    "\n",
    "    class_member_mask = (labels == k)\n",
    "\n",
    "    xy = x_val_sampled[class_member_mask]\n",
    "    plt.plot(xy[:, 0], xy[:, 1], 'o', markerfacecolor=tuple(col),\n",
    "             markeredgecolor='k', markersize=6)\n",
    "\n",
    "plt.title('Estimated number of clusters: %d' % n_clusters_)\n",
    "plt.show()"
   ]
  },
  {
   "cell_type": "code",
   "execution_count": null,
   "id": "88aee5a6-fea4-4e99-8470-30a9cc90a9df",
   "metadata": {},
   "outputs": [],
   "source": [
    "# compute the silhouette scores for each sample\n",
    "sample_silhouette_values = silhouette_samples(x_val_sampled, labels)\n",
    "\n",
    "fig, ax1 = plt.subplots(1, 1)\n",
    "fig.set_size_inches(18, 7)\n",
    "\n",
    "# silhouette coefficient - focus on 0 to 1\n",
    "ax1.set_xlim([-0.1, 1])\n",
    "ax1.set_ylim([0, len(x_val_sampled) + (n_clusters_ + 1) * 10])\n",
    "\n",
    "y_lower = 10\n",
    "for i in range(n_clusters_):\n",
    "    ith_cluster_silhouette_values = sample_silhouette_values[labels == i]\n",
    "    ith_cluster_silhouette_values.sort()\n",
    "\n",
    "    size_cluster_i = ith_cluster_silhouette_values.shape[0]\n",
    "    y_upper = y_lower + size_cluster_i\n",
    "\n",
    "    color = cm.nipy_spectral(float(i) / n_clusters_)\n",
    "    ax1.fill_betweenx(np.arange(y_lower, y_upper),\n",
    "                      0, ith_cluster_silhouette_values,\n",
    "                      facecolor=color, edgecolor=color, alpha=0.7)\n",
    "    ax1.text(-0.05, y_lower + 0.5 * size_cluster_i, str(i))\n",
    "\n",
    "    # compute  new y_lower for next plot\n",
    "    y_lower = y_upper + 10  # 10 for the 0 samples\n",
    "\n",
    "ax1.set_title(\"The silhouette plot for the various clusters.\")\n",
    "ax1.set_xlabel(\"The silhouette coefficient values\")\n",
    "ax1.set_ylabel(\"Cluster label\")\n",
    "\n",
    "# vertical line for average silhouette score of all the values\n",
    "ax1.axvline(x=silhouette_avg, color=\"red\", linestyle=\"--\")\n",
    "\n",
    "ax1.set_yticks([]) \n",
    "ax1.set_xticks(np.arange(-0.1, 1.1, 0.1))\n",
    "\n",
    "plt.show()"
   ]
  },
  {
   "cell_type": "code",
   "execution_count": null,
   "id": "bd0cd06b-26e9-49d7-bd9f-e8c487b8fab8",
   "metadata": {},
   "outputs": [],
   "source": [
    "# save tuned DBSCAN model\n",
    "dbscan_best_model_path = 'models/dbscan_best_model.pkl'\n",
    "joblib.dump(dbscan_best_model, dbscan_best_model_path)\n",
    "\n",
    "print(f'Tuned DBSCAN model saved at: {dbscan_best_model_path}')"
   ]
  },
  {
   "cell_type": "markdown",
   "id": "d63768d6-b3b1-4495-b93c-8ca4aa13b1e3",
   "metadata": {},
   "source": [
    "## Adaboost"
   ]
  },
  {
   "cell_type": "code",
   "execution_count": null,
   "id": "2386b135",
   "metadata": {},
   "outputs": [],
   "source": [
    "adaboost_model = AdaBoostClassifier(base_estimator=model, n_estimators=50, random_state=42)\n",
    "\n",
    "# Train the model on the PCA-transformed and scaled training data\n",
    "adaboost_model.fit(x_train_scaled_pca, y_train)\n",
    "\n",
    "# Predict on the PCA-transformed and scaled training data\n",
    "y_train_pred = adaboost_model.predict(x_train_scaled_pca)\n",
    "\n",
    "# Predict on the PCA-transformed and scaled validation data\n",
    "y_val_pred = adaboost_model.predict(x_val_scaled_pca)\n",
    "\n",
    "# Predict on the PCA-transformed and scaled test data\n",
    "y_test_pred = adaboost_model.predict(x_test_scaled_pca)\n",
    "\n",
    "# Evaluate the model\n",
    "train_accuracy = accuracy_score(y_train, y_train_pred)\n",
    "val_accuracy = accuracy_score(y_val, y_val_pred)\n",
    "test_accuracy = accuracy_score(y_test, y_test_pred)\n",
    "\n",
    "print(f'Training Accuracy: {train_accuracy}')\n",
    "print(f'Validation Accuracy: {val_accuracy}')\n",
    "print(f'Test Accuracy: {test_accuracy}')\n",
    "\n",
    "print(\"\\nClassification Report (Validation):\")\n",
    "print(classification_report(y_val, y_val_pred))\n",
    "\n",
    "print(\"\\nClassification Report (Test):\")\n",
    "print(classification_report(y_test, y_test_pred))"
   ]
  },
  {
   "cell_type": "markdown",
   "id": "e446a6ec",
   "metadata": {},
   "source": [
    "## SVM model with kernel trick"
   ]
  },
  {
   "cell_type": "code",
   "execution_count": null,
   "id": "bcba48a7",
   "metadata": {},
   "outputs": [],
   "source": [
    "# Sample the data (10% of the data)\n",
    "#x_train_sampled, _, y_train_sampled, _ = train_test_split(x_train_scaled_pca, y_train, test_size=0.9, random_state=42)\n",
    "#x_val_sampled, _, y_val_sampled, _ = train_test_split(x_val_scaled_pca, y_val, test_size=0.9, random_state=42)\n",
    "#x_test_sampled, _, y_test_sampled, _ = train_test_split(x_test_scaled_pca, y_test, test_size=0.9, random_state=42)\n",
    "\n",
    "# Create the SVM model with a kernel trick, for example, the 'rbf' kernel\n",
    "svm_model = SVC(kernel='rbf', C=1, gamma='scale')\n",
    "\n",
    "# Train the model on the sampled data\n",
    "svm_model.fit(x_train_scaled_pca, y_train)\n",
    "\n",
    "# Make predictions on the validation set\n",
    "y_val_pred = svm_model.predict(x_val_scaled_pca)\n",
    "\n",
    "# Evaluate the model\n",
    "print(\"Validation Accuracy:\", accuracy_score(y_val, y_val_pred))\n",
    "print(\"Classification Report:\\n\", classification_report(y_val, y_val_pred))\n",
    "print(\"Confusion Matrix:\\n\", confusion_matrix(y_val, y_val_pred))\n",
    "\n",
    "# Make predictions on the test set\n",
    "y_test_pred = svm_model.predict(x_test_scaled_pca)\n",
    "\n",
    "# Evaluate the model on the test set\n",
    "print(\"Test Accuracy:\", accuracy_score(y_test_scaled_pca, y_test_pred))\n",
    "print(\"Classification Report:\\n\", classification_report(y_test_scaled_pca, y_test_pred))\n",
    "print(\"Confusion Matrix:\\n\", confusion_matrix(y_test_scaled_pca, y_test_pred))"
   ]
  },
  {
   "cell_type": "code",
   "execution_count": 5,
   "id": "14a6cb9a",
   "metadata": {},
   "outputs": [
    {
     "name": "stdout",
     "output_type": "stream",
     "text": [
      "Accuracy: 0.8327588187981156\n",
      "Classification Report:\n",
      "               precision    recall  f1-score   support\n",
      "\n",
      "           0       0.85      0.94      0.89    116832\n",
      "           1       0.75      0.52      0.61     39822\n",
      "\n",
      "    accuracy                           0.83    156654\n",
      "   macro avg       0.80      0.73      0.75    156654\n",
      "weighted avg       0.82      0.83      0.82    156654\n",
      "\n"
     ]
    }
   ],
   "source": [
    "from sklearn.linear_model import SGDClassifier\n",
    "\n",
    "# Initialize and train SGDClassifier with a linear kernel\n",
    "# Loss function is 'hinge' which is used for linear SVM\n",
    "sgd_model = SGDClassifier(loss='hinge',  # Linear SVM\n",
    "                          alpha=0.0001,  # Regularization parameter\n",
    "                          max_iter=1000,  # Number of iterations\n",
    "                          tol=1e-3,       # Tolerance for stopping criteria\n",
    "                          random_state=42)\n",
    "\n",
    "sgd_model.fit(x_train_scaled_pca, y_train)\n",
    "\n",
    "# Make predictions\n",
    "y_pred = sgd_model.predict(x_test_scaled_pca)\n",
    "\n",
    "# Print performance metrics\n",
    "print(\"Accuracy:\", accuracy_score(y_test, y_pred))\n",
    "print(\"Classification Report:\\n\", classification_report(y_test, y_pred))"
   ]
  },
  {
   "cell_type": "code",
   "execution_count": 6,
   "id": "b88dbb1a",
   "metadata": {},
   "outputs": [
    {
     "name": "stdout",
     "output_type": "stream",
     "text": [
      "Fitting 5 folds for each of 81 candidates, totalling 405 fits\n",
      "Best hyperparameters: {'alpha': 0.001, 'max_iter': 1000, 'penalty': 'l1', 'tol': 1e-05}\n",
      "Accuracy: 0.8301096684412782\n",
      "Classification Report:\n",
      "               precision    recall  f1-score   support\n",
      "\n",
      "           0       0.85      0.93      0.89    116832\n",
      "           1       0.73      0.52      0.61     39822\n",
      "\n",
      "    accuracy                           0.83    156654\n",
      "   macro avg       0.79      0.73      0.75    156654\n",
      "weighted avg       0.82      0.83      0.82    156654\n",
      "\n"
     ]
    }
   ],
   "source": [
    "# Define the parameter grid\n",
    "param_grid = {\n",
    "    'alpha': [0.0001, 0.001, 0.01],       # Regularization parameter\n",
    "    'max_iter': [1000, 2000, 3000],        # Number of iterations\n",
    "    'tol': [1e-3, 1e-4, 1e-5],              # Tolerance for stopping criteria\n",
    "    'penalty': ['l2', 'l1', 'elasticnet']  # Type of regularization\n",
    "}\n",
    "\n",
    "# Initialize the SGDClassifier\n",
    "sgd = SGDClassifier(loss='hinge', random_state=42)\n",
    "\n",
    "# Configure Grid Search\n",
    "grid_search = GridSearchCV(estimator=sgd,\n",
    "                           param_grid=param_grid,\n",
    "                           scoring='accuracy',   # Use accuracy to evaluate performance\n",
    "                           cv=5,                 # Number of cross-validation folds\n",
    "                           verbose=2,            # Print detailed logs\n",
    "                           n_jobs=-1)            # Use all available CPUs\n",
    "\n",
    "# Fit Grid Search\n",
    "grid_search.fit(x_train_scaled_pca, y_train)\n",
    "\n",
    "# Get the best model from grid search\n",
    "best_sgd_model = grid_search.best_estimator_\n",
    "\n",
    "# Print the best hyperparameters\n",
    "print(f\"Best hyperparameters: {grid_search.best_params_}\")\n",
    "\n",
    "# Make predictions with the best model\n",
    "y_pred = best_sgd_model.predict(x_test_scaled_pca)\n",
    "\n",
    "# Print performance metrics\n",
    "print(\"Accuracy:\", accuracy_score(y_test, y_pred))\n",
    "print(\"Classification Report:\\n\", classification_report(y_test, y_pred))"
   ]
  },
  {
   "cell_type": "code",
   "execution_count": 7,
   "id": "d2f618b7",
   "metadata": {},
   "outputs": [
    {
     "name": "stdout",
     "output_type": "stream",
     "text": [
      "Tuned adaboost model saved at: Models/sgd_best_model.pkl\n"
     ]
    }
   ],
   "source": [
    "# save tuned ridge and lasso models\n",
    "sgd_best_model_path = 'Models/sgd_best_model.pkl'\n",
    "\n",
    "joblib.dump(best_sgd_model, sgd_best_model_path)\n",
    "\n",
    "print(f'Tuned adaboost model saved at: {sgd_best_model_path}')"
   ]
  },
  {
   "cell_type": "markdown",
   "id": "6954fbd8",
   "metadata": {},
   "source": [
    "### Logistic modeling with Lasso / Ridge\n",
    "\n",
    "In looking to refine the Logistic regression model for higher accuracy, the lasso and ridge variation of the model was utilized. First, the data x_train_scaled_pca was fitted to the default Ridge and Lasso models. Five fold cross validation was used to get the average accuracy of each model. The average accuracy for each model is as follows:\n",
    "\n",
    "| Model | Parameters | Dataset | Accuracy |\n",
    "| --- | --- | --- | --- |\n",
    "| Ridge | Default | 5-Fold Validation | 0.73 (average)|\n",
    "|  | Default | Single Validation |  0.82 |\n",
    "|  | Default | Test |  0.83 |\n",
    "|  | Tuned, C = 1 | Validation |   0.82 |\n",
    "|  | Test, C = 1 | Test |  0.83 |\n",
    "| Lasso | Default | 5-Fold Validation |  0.73 (average)|\n",
    "|  | Default | Single Validation |  0.82 |\n",
    "|  | Default | Test |  0.83 |\n",
    "|  | Tuned, C = 1 | Single Validation |  0.82 |\n",
    "|  | Tuned, C = 1 | Test |  0.83 |"
   ]
  },
  {
   "cell_type": "code",
   "execution_count": null,
   "id": "3a74c05d",
   "metadata": {},
   "outputs": [],
   "source": [
    "# Number of folds\n",
    "n_splits = 5\n",
    "\n",
    "# K-Fold cross-validator\n",
    "kf = KFold(n_splits=n_splits, shuffle=True, random_state=42)\n",
    "\n",
    "# Ridge Classification with K-Fold CV\n",
    "ridge_model = LogisticRegression(penalty='l2', solver='lbfgs', max_iter=1000, random_state= 42)\n",
    "ridge_accuracy_scores = cross_val_score(ridge_model, x_train_scaled_pca, y_train, cv=kf, scoring='accuracy')\n",
    "\n",
    "print(f'Ridge Classification Accuracy CV Scores: {ridge_accuracy_scores}')\n",
    "print(f'Ridge Classification Mean Accuracy CV Score: {np.mean(ridge_accuracy_scores)}')\n",
    "\n",
    "# Lasso Classification with K-Fold CV\n",
    "lasso_model = LogisticRegression(penalty='l1', solver='saga', max_iter=1000, random_state= 42)  # 'saga' solver supports L1 regularization\n",
    "lasso_accuracy_scores = cross_val_score(lasso_model, x_train_scaled_pca, y_train, cv=kf, scoring='accuracy')\n",
    "\n",
    "print(f'Lasso Classification Accuracy CV Scores: {lasso_accuracy_scores}')\n",
    "print(f'Lasso Classification Mean Accuracy CV Score: {np.mean(lasso_accuracy_scores)}')\n",
    "\n",
    "# Training the models on the entire training set and evaluating on the validation set\n",
    "ridge_model.fit(x_train_scaled_pca, y_train)\n",
    "lasso_model.fit(x_train_scaled_pca, y_train)\n",
    "\n",
    "# Evaluate Ridge model on the validation set\n",
    "y_val_pred_ridge = ridge_model.predict(x_val_scaled_pca)\n",
    "val_accuracy_ridge = accuracy_score(y_val, y_val_pred_ridge)\n",
    "val_confusion_matrix_ridge = confusion_matrix(y_val, y_val_pred_ridge)\n",
    "val_classification_report_ridge = classification_report(y_val, y_val_pred_ridge)\n",
    "\n",
    "print('\\nRidge Classification Validation Confusion Matrix:')\n",
    "print(val_confusion_matrix_ridge)\n",
    "print('Ridge Classification Validation Classification Report:')\n",
    "print(val_classification_report_ridge)\n",
    "print(f'Ridge Classification Validation Accuracy: {val_accuracy_ridge}')\n",
    "\n",
    "# Evaluate Ridge model on the test set\n",
    "y_test_pred_ridge = ridge_model.predict(x_test_scaled_pca)\n",
    "test_accuracy_ridge = accuracy_score(y_test, y_test_pred_ridge)\n",
    "test_confusion_matrix_ridge = confusion_matrix(y_test, y_test_pred_ridge)\n",
    "test_classification_report_ridge = classification_report(y_test, y_test_pred_ridge)\n",
    "\n",
    "print('\\nRidge Classification Test Confusion Matrix:')\n",
    "print(test_confusion_matrix_ridge)\n",
    "print('\\nRidge Classification Test Classification Report:')\n",
    "print(test_classification_report_ridge)\n",
    "print(f'Ridge Classification Test Accuracy: {test_accuracy_ridge}')\n",
    "\n",
    "# Evaluate Lasso model on the validation set\n",
    "y_val_pred_lasso = lasso_model.predict(x_val_scaled_pca)\n",
    "val_accuracy_lasso = accuracy_score(y_val, y_val_pred_lasso)\n",
    "val_confusion_matrix_lasso = confusion_matrix(y_val, y_val_pred_lasso)\n",
    "val_classification_report_lasso = classification_report(y_val, y_val_pred_lasso)\n",
    "\n",
    "print('\\nLasso Classification Validation Confusion Matrix:')\n",
    "print(val_confusion_matrix_lasso)\n",
    "print('Lasso Classification Validation Classification Report:')\n",
    "print(val_classification_report_lasso)\n",
    "print(f'Lasso Classification Validation Accuracy: {val_accuracy_lasso}')\n",
    "\n",
    "# Evaluate Lasso model on the test set\n",
    "y_test_pred_lasso = lasso_model.predict(x_test_scaled_pca)\n",
    "val_accuracy_lasso = accuracy_score(y_test, y_test_pred_lasso)\n",
    "val_confusion_matrix_lasso = confusion_matrix(y_test, y_test_pred_lasso)\n",
    "val_classification_report_lasso = classification_report(y_test, y_test_pred_lasso)\n",
    "\n",
    "print('\\nLasso Classification Test Confusion Matrix:')\n",
    "print(val_confusion_matrix_lasso)\n",
    "print('\\nLasso Classification Test Classification Report:')\n",
    "print(val_classification_report_lasso)\n",
    "print(f'Lasso Classification Test Accuracy: {val_accuracy_lasso}')"
   ]
  },
  {
   "cell_type": "markdown",
   "id": "4c4a4a0b",
   "metadata": {},
   "source": [
    "##### Hyper parameter tuning for the Ridge and Lasso Models"
   ]
  },
  {
   "cell_type": "code",
   "execution_count": 7,
   "id": "87933d8e",
   "metadata": {},
   "outputs": [
    {
     "name": "stdout",
     "output_type": "stream",
     "text": [
      "\n",
      "Best Ridge parameters: {'C': 0.1, 'max_iter': 1000, 'penalty': 'l2', 'random_state': 42, 'solver': 'lbfgs'}\n",
      "Best Ridge CV accuracy: 0.7322238618046676\n",
      "\n",
      "Best Lasso parameters: {'C': 1, 'max_iter': 1000, 'penalty': 'l1', 'random_state': 42, 'solver': 'saga'}\n",
      "Best Lasso CV accuracy: 0.7314828645004297\n",
      "\n",
      "Best Ridge Classification Validation Confusion Matrix:\n",
      "[[107863   8968]\n",
      " [ 18655  21167]]\n",
      "Best Ridge Classification Validation Classification Report:\n",
      "              precision    recall  f1-score   support\n",
      "\n",
      "           0       0.85      0.92      0.89    116831\n",
      "           1       0.70      0.53      0.61     39822\n",
      "\n",
      "    accuracy                           0.82    156653\n",
      "   macro avg       0.78      0.73      0.75    156653\n",
      "weighted avg       0.81      0.82      0.81    156653\n",
      "\n",
      "Best Ridge Classification Validation Accuracy: 0.8236675965350169\n",
      "\n",
      "Best Ridge Classification Test Confusion Matrix:\n",
      "[[108066   8766]\n",
      " [ 18623  21199]]\n",
      "Best Ridge Classification Test Classification Report:\n",
      "              precision    recall  f1-score   support\n",
      "\n",
      "           0       0.85      0.92      0.89    116832\n",
      "           1       0.71      0.53      0.61     39822\n",
      "\n",
      "    accuracy                           0.83    156654\n",
      "   macro avg       0.78      0.73      0.75    156654\n",
      "weighted avg       0.82      0.83      0.82    156654\n",
      "\n",
      "Best Ridge Classification Test Accuracy: 0.82516245994357\n",
      "\n",
      "Best Lasso Classification Validation Confusion Matrix:\n",
      "[[107939   8892]\n",
      " [ 18716  21106]]\n",
      "Best Lasso Classification Validation Classification Report:\n",
      "              precision    recall  f1-score   support\n",
      "\n",
      "           0       0.85      0.92      0.89    116831\n",
      "           1       0.70      0.53      0.60     39822\n",
      "\n",
      "    accuracy                           0.82    156653\n",
      "   macro avg       0.78      0.73      0.75    156653\n",
      "weighted avg       0.81      0.82      0.81    156653\n",
      "\n",
      "Best Lasso Classification Validation Accuracy: 0.8237633495687922\n",
      "\n",
      "Best Lasso Classification Test Confusion Matrix:\n",
      "[[108142   8690]\n",
      " [ 18686  21136]]\n",
      "Best Lasso Classification Test Classification Report:\n",
      "              precision    recall  f1-score   support\n",
      "\n",
      "           0       0.85      0.93      0.89    116832\n",
      "           1       0.71      0.53      0.61     39822\n",
      "\n",
      "    accuracy                           0.83    156654\n",
      "   macro avg       0.78      0.73      0.75    156654\n",
      "weighted avg       0.82      0.83      0.82    156654\n",
      "\n",
      "Best Lasso Classification Test Accuracy: 0.8252454453764347\n"
     ]
    }
   ],
   "source": [
    "# Define the parameter grid for Ridge and Lasso\n",
    "ridge_param_grid = {\n",
    "    'penalty': ['l2'],\n",
    "    'C': [0.01, 0.1, 1, 10, 100],  # inverse of regularization strength\n",
    "    'solver': ['lbfgs'],\n",
    "    'max_iter': [1000],\n",
    "    'random_state': [42]  # set seed\n",
    "}\n",
    "\n",
    "lasso_param_grid = {\n",
    "    'penalty': ['l1'],\n",
    "    'C': [0.01, 0.1, 1, 10, 100],  # inverse of regularization strength\n",
    "    'solver': ['saga'],\n",
    "    'max_iter': [1000],\n",
    "    'random_state': [42]  # Set the seed\n",
    "}\n",
    "\n",
    "# Create GridSearchCV objects\n",
    "ridge_grid_search = GridSearchCV(\n",
    "    LogisticRegression(random_state=42),  # set seed for reproducibility\n",
    "    ridge_param_grid,\n",
    "    cv=5,  # 5-fold cross-validation\n",
    "    scoring='accuracy',  \n",
    "    n_jobs=-1  # use all available cores\n",
    ")\n",
    "\n",
    "lasso_grid_search = GridSearchCV(\n",
    "    LogisticRegression(random_state=42),  # set seed for reproducibility\n",
    "    lasso_param_grid,\n",
    "    cv=5,  # 5-fold cross-validation\n",
    "    scoring='accuracy',  \n",
    "    n_jobs=-1  # use all available cores\n",
    ")\n",
    "\n",
    "# Fit GridSearchCV objects\n",
    "ridge_grid_search.fit(x_train_scaled_pca, y_train)\n",
    "lasso_grid_search.fit(x_train_scaled_pca, y_train)\n",
    "\n",
    "# Get the best parameters and best scores\n",
    "print(f'\\nBest Ridge parameters: {ridge_grid_search.best_params_}')\n",
    "print(f'Best Ridge CV accuracy: {ridge_grid_search.best_score_}')\n",
    "\n",
    "print(f'\\nBest Lasso parameters: {lasso_grid_search.best_params_}')\n",
    "print(f'Best Lasso CV accuracy: {lasso_grid_search.best_score_}')\n",
    "\n",
    "# Evaluate the best model on the validation set\n",
    "best_ridge_model = ridge_grid_search.best_estimator_\n",
    "best_lasso_model = lasso_grid_search.best_estimator_\n",
    "\n",
    "# Validation set evaluation for Ridge\n",
    "y_val_pred_ridge = best_ridge_model.predict(x_val_scaled_pca)\n",
    "val_accuracy_ridge = accuracy_score(y_val, y_val_pred_ridge)\n",
    "val_confusion_matrix_ridge = confusion_matrix(y_val, y_val_pred_ridge)\n",
    "val_classification_report_ridge = classification_report(y_val, y_val_pred_ridge)\n",
    "\n",
    "\n",
    "\n",
    "print('\\nBest Ridge Classification Validation Confusion Matrix:')\n",
    "print(val_confusion_matrix_ridge)\n",
    "print('Best Ridge Classification Validation Classification Report:')\n",
    "print(val_classification_report_ridge)\n",
    "print(f'Best Ridge Classification Validation Accuracy: {val_accuracy_ridge}')\n",
    "\n",
    "# Test set evaluation for Ridge\n",
    "y_test_pred_ridge = best_ridge_model.predict(x_test_scaled_pca)\n",
    "test_accuracy_ridge = accuracy_score(y_test, y_test_pred_ridge)\n",
    "test_confusion_matrix_ridge = confusion_matrix(y_test, y_test_pred_ridge)\n",
    "test_classification_report_ridge = classification_report(y_test, y_test_pred_ridge)\n",
    "\n",
    "\n",
    "\n",
    "print('\\nBest Ridge Classification Test Confusion Matrix:')\n",
    "print(test_confusion_matrix_ridge)\n",
    "print('Best Ridge Classification Test Classification Report:')\n",
    "print(test_classification_report_ridge)\n",
    "print(f'Best Ridge Classification Test Accuracy: {test_accuracy_ridge}')\n",
    "\n",
    "# Validation set evaluation for Lasso\n",
    "y_val_pred_lasso = best_lasso_model.predict(x_val_scaled_pca)\n",
    "val_accuracy_lasso = accuracy_score(y_val, y_val_pred_lasso)\n",
    "val_confusion_matrix_lasso = confusion_matrix(y_val, y_val_pred_lasso)\n",
    "val_classification_report_lasso = classification_report(y_val, y_val_pred_lasso)\n",
    "\n",
    "\n",
    "\n",
    "print('\\nBest Lasso Classification Validation Confusion Matrix:')\n",
    "print(val_confusion_matrix_lasso)\n",
    "print('Best Lasso Classification Validation Classification Report:')\n",
    "print(val_classification_report_lasso)\n",
    "print(f'Best Lasso Classification Validation Accuracy: {val_accuracy_lasso}')\n",
    "\n",
    "# Test set evaluation for Lasso\n",
    "y_test_pred_lasso = best_lasso_model.predict(x_test_scaled_pca)\n",
    "test_accuracy_lasso = accuracy_score(y_test, y_test_pred_lasso)\n",
    "test_confusion_matrix_lasso = confusion_matrix(y_test, y_test_pred_lasso)\n",
    "test_classification_report_lasso = classification_report(y_test, y_test_pred_lasso)\n",
    "\n",
    "\n",
    "\n",
    "print('\\nBest Lasso Classification Test Confusion Matrix:')\n",
    "print(test_confusion_matrix_lasso)\n",
    "print('Best Lasso Classification Test Classification Report:')\n",
    "print(test_classification_report_lasso)\n",
    "print(f'Best Lasso Classification Test Accuracy: {test_accuracy_lasso}')"
   ]
  },
  {
   "cell_type": "markdown",
   "id": "a73298e1",
   "metadata": {},
   "source": [
    "The best hyperparameters for the Ridge and Lasso Models were the default. The test accuracy was 83% for both untuned and tuned Ridge and Lasso models."
   ]
  },
  {
   "cell_type": "code",
   "execution_count": 19,
   "id": "3c51400c",
   "metadata": {},
   "outputs": [
    {
     "name": "stdout",
     "output_type": "stream",
     "text": [
      "Tuned Ridge model saved at: Models/ridge_best_model.pkl\n",
      "Tuned Lasso model saved at: Models/lasso_best_model.pkl\n",
      "Tuned Logreg model saved at: Models/logreg_best_model.pkl\n"
     ]
    }
   ],
   "source": [
    "# save tuned ridge and lasso models\n",
    "ridge_best_model_path = 'Models/ridge_best_model.pkl'\n",
    "lasso_best_model_path = 'Models/lasso_best_model.pkl'\n",
    "logreg_best_model_path = 'Models/logreg_best_model.pkl'\n",
    "\n",
    "joblib.dump(best_ridge_model, ridge_best_model_path)\n",
    "joblib.dump(best_lasso_model, lasso_best_model_path)\n",
    "joblib.dump(logreg_model, logreg_best_model_path)\n",
    "\n",
    "print(f'Tuned Ridge model saved at: {ridge_best_model_path}')\n",
    "print(f'Tuned Lasso model saved at: {lasso_best_model_path}')\n",
    "print(f'Tuned Logreg model saved at: {logreg_best_model_path}')"
   ]
  },
  {
   "cell_type": "markdown",
   "id": "a01dd967",
   "metadata": {},
   "source": [
    "### Bagging Classifier\n"
   ]
  },
  {
   "cell_type": "markdown",
   "id": "9e3d250a",
   "metadata": {},
   "source": [
    "The default parameters for baggingClassifier with n_estimators of 10 resulted in a mean accuracy of 0.91 - this is with CV of 5."
   ]
  },
  {
   "cell_type": "code",
   "execution_count": 12,
   "id": "400330a8",
   "metadata": {},
   "outputs": [
    {
     "name": "stdout",
     "output_type": "stream",
     "text": [
      "Bagging Classifier Accuracy for each fold: [0.90064883 0.90533508 0.91172667 0.90937895 0.91033272]\n",
      "Mean accuracy: 0.91\n"
     ]
    }
   ],
   "source": [
    "# Initialize model\n",
    "bag_mod = BaggingClassifier(estimator=DecisionTreeClassifier(), n_estimators=10, random_state=42)\n",
    "\n",
    "\n",
    "# Perform cross-validation\n",
    "scores = cross_val_score(bag_mod, x_train_scaled_pca, y_train, cv=5)\n",
    "\n",
    "# Print results\n",
    "print(f\"Bagging Classifier Accuracy for each fold: {scores}\")\n",
    "print(f\"Mean accuracy: {scores.mean():.2f}\")"
   ]
  },
  {
   "cell_type": "code",
   "execution_count": 13,
   "id": "32f77e4f",
   "metadata": {},
   "outputs": [
    {
     "name": "stdout",
     "output_type": "stream",
     "text": [
      "Parameters used by the Bagging Classifier:\n",
      "{'bootstrap': True, 'bootstrap_features': False, 'estimator__ccp_alpha': 0.0, 'estimator__class_weight': None, 'estimator__criterion': 'gini', 'estimator__max_depth': None, 'estimator__max_features': None, 'estimator__max_leaf_nodes': None, 'estimator__min_impurity_decrease': 0.0, 'estimator__min_samples_leaf': 1, 'estimator__min_samples_split': 2, 'estimator__min_weight_fraction_leaf': 0.0, 'estimator__monotonic_cst': None, 'estimator__random_state': None, 'estimator__splitter': 'best', 'estimator': DecisionTreeClassifier(), 'max_features': 1.0, 'max_samples': 1.0, 'n_estimators': 10, 'n_jobs': None, 'oob_score': False, 'random_state': 42, 'verbose': 0, 'warm_start': False}\n"
     ]
    }
   ],
   "source": [
    "params = bag_mod.get_params()\n",
    "print(\"Parameters used by the Bagging Classifier:\")\n",
    "print(params)"
   ]
  },
  {
   "cell_type": "markdown",
   "id": "9a43e367",
   "metadata": {},
   "source": [
    "Originally, there were more features and options that were on the grid, but it would've taken 40 hours to run (Fitting 5 folds for each of 972 candidates, totalling 4860 fits). So a reduced parameter grid and the use of RandomizedSearchCV were employed to run the hypertuning."
   ]
  },
  {
   "cell_type": "raw",
   "id": "05e10b92",
   "metadata": {},
   "source": [
    "import time\n",
    "# Define parameter grid (smaller grid for estimation)\n",
    "param_grid = {\n",
    "    'n_estimators': [10],\n",
    "    'max_samples': [0.5],\n",
    "    'max_features': [0.5],\n",
    "    'bootstrap': [True],\n",
    "    'bootstrap_features': [True]\n",
    "}\n",
    "\n",
    "# Initialize base estimator\n",
    "base_estimator = DecisionTreeClassifier()\n",
    "\n",
    "# Initialize Bagging Classifier\n",
    "bagging_clf = BaggingClassifier(estimator=base_estimator, random_state=42)\n",
    "\n",
    "# Initialize GridSearchCV with verbose output\n",
    "grid_search = GridSearchCV(estimator=bagging_clf, param_grid=param_grid, cv=5, n_jobs=-1, verbose=2)\n",
    "\n",
    "# Measure time for fitting a smaller grid\n",
    "start_time = time.time()\n",
    "grid_search.fit(x_train_scaled, y_train)\n",
    "end_time = time.time()\n",
    "\n",
    "# Print the time taken\n",
    "print(f\"Time taken for smaller grid: {end_time - start_time:.2f} seconds\")\n",
    "\n",
    "# Estimate total time for full grid (note: this is an estimation)\n",
    "time_per_fit = end_time - start_time\n",
    "total_fits = 972 * 5  # 972 candidates, 5 folds\n",
    "estimated_total_time = time_per_fit * (total_fits / len(param_grid))\n",
    "print(f\"Estimated total time for full grid: {estimated_total_time / 3600:.2f} hours\")"
   ]
  },
  {
   "cell_type": "code",
   "execution_count": 15,
   "id": "b948dfd5",
   "metadata": {},
   "outputs": [
    {
     "name": "stdout",
     "output_type": "stream",
     "text": [
      "Fitting 5 folds for each of 10 candidates, totalling 50 fits\n",
      "Best parameters found: {'n_estimators': 20, 'max_samples': 1.0, 'max_features': 1.0, 'estimator__min_samples_split': 5, 'estimator__max_depth': None, 'bootstrap_features': False, 'bootstrap': True}\n",
      "Mean accuracy: 0.91\n"
     ]
    }
   ],
   "source": [
    "from sklearn.model_selection import RandomizedSearchCV\n",
    "\n",
    "param_grid = {\n",
    "    'n_estimators': [10, 20],                    # Fewer values\n",
    "    'max_samples': [0.5, 1.0],                   # Reduced options\n",
    "    'max_features': [0.5, 1.0],                  # Reduced options\n",
    "    'bootstrap': [True],                         # Reduced options\n",
    "    'bootstrap_features': [False],               # Reduced options\n",
    "    'estimator__max_depth': [None, 10],          # Fewer values\n",
    "    'estimator__min_samples_split': [2, 5],      # Fewer values\n",
    "    # Remove 'n_jobs' from parameter grid\n",
    "}\n",
    "\n",
    "bagging_clf = BaggingClassifier(estimator=base_estimator, random_state=42)\n",
    "\n",
    "# Using RandomizedSearchCV with fewer iterations to cut down on tuning time\n",
    "random_search = RandomizedSearchCV(estimator=bagging_clf, param_distributions=param_grid, \n",
    "                                     n_iter=10, cv=5, n_jobs=-1, verbose=2, random_state=42)\n",
    "\n",
    "# Perform the search\n",
    "random_search.fit(x_train_scaled_pca, y_train)\n",
    "\n",
    "# Get the best parameters and results\n",
    "print(f\"Best parameters found: {random_search.best_params_}\")\n",
    "print(f\"Mean accuracy: {random_search.best_score_:.2f}\")"
   ]
  },
  {
   "cell_type": "markdown",
   "id": "05d5a29e",
   "metadata": {},
   "source": [
    "The hypertuned parameter ended up having the same mean accuracy score as the default model."
   ]
  },
  {
   "cell_type": "code",
   "execution_count": 18,
   "id": "0a891160",
   "metadata": {},
   "outputs": [
    {
     "name": "stdout",
     "output_type": "stream",
     "text": [
      "Tuned bagging model saved at: Models/bag_best_model.pkl\n"
     ]
    }
   ],
   "source": [
    "# Get best estimator for the baggingclassifier\n",
    "best_bag_model = random_search.best_estimator_\n",
    "\n",
    "# save tuned bagging classifier\n",
    "bag_best_model_path = 'Models/bag_best_model.pkl'\n",
    "\n",
    "joblib.dump(best_bag_model, bag_best_model_path)\n",
    "\n",
    "print(f'Tuned bagging model saved at: {bag_best_model_path}')"
   ]
  },
  {
   "cell_type": "code",
   "execution_count": 20,
   "id": "f86eea20",
   "metadata": {},
   "outputs": [
    {
     "data": {
      "image/png": "[encoded data removed]",
      "text/plain": [
       "<Figure size 432x288 with 1 Axes>"
      ]
     },
     "metadata": {
      "needs_background": "light"
     },
     "output_type": "display_data"
    },
    {
     "name": "stdout",
     "output_type": "stream",
     "text": [
      "AUC: 0.97\n"
     ]
    }
   ],
   "source": [
    "import matplotlib.pyplot as plt\n",
    "\n",
    "\n",
    "# Predict probabilities for the test set\n",
    "y_probs = best_bag_model.predict_proba(x_test_scaled_pca)[:, 1]\n",
    "\n",
    "# Compute ROC curve\n",
    "fpr, tpr, thresholds = roc_curve(y_test, y_probs)  # Adjust if y_test is binarized\n",
    "\n",
    "# Compute AUC\n",
    "roc_auc = auc(fpr, tpr)\n",
    "\n",
    "# Plot ROC curve\n",
    "plt.figure()\n",
    "plt.plot(fpr, tpr, color='blue', lw=2, label=f'ROC curve (area = {roc_auc:0.2f})')\n",
    "plt.plot([0, 1], [0, 1], color='gray', lw=1, linestyle='--')\n",
    "plt.xlim([0.0, 1.0])\n",
    "plt.ylim([0.0, 1.05])\n",
    "plt.xlabel('False Positive Rate')\n",
    "plt.ylabel('True Positive Rate')\n",
    "plt.title('Receiver Operating Characteristic (ROC) Curve')\n",
    "plt.legend(loc=\"lower right\")\n",
    "plt.show()\n",
    "\n",
    "# Print AUC value\n",
    "print(f\"AUC: {roc_auc:0.2f}\")"
   ]
  },
  {
   "cell_type": "code",
   "execution_count": 22,
   "id": "fcb79874",
   "metadata": {},
   "outputs": [
    {
     "data": {
      "image/png": "[encoded data removed]",
      "text/plain": [
       "<Figure size 432x288 with 1 Axes>"
      ]
     },
     "metadata": {
      "needs_background": "light"
     },
     "output_type": "display_data"
    }
   ],
   "source": [
    "# Initialize models\n",
    "models = {\n",
    "    'Bagging Classifier': best_bag_model,\n",
    "    'Logistic Regression': logreg_model,\n",
    "    'Ridge Regression': best_ridge_model,\n",
    "    'Lasso regression' : best_lasso_model\n",
    "}\n",
    "\n",
    "# Fit models and compute ROC curves\n",
    "plt.figure()\n",
    "\n",
    "for name, model in models.items():\n",
    "    model.fit(x_train_scaled_pca, y_train)\n",
    "    y_probs = model.predict_proba(x_test_scaled_pca)[:, 1]  # Probabilities for the positive class\n",
    "\n",
    "    # Compute ROC curve\n",
    "    fpr, tpr, _ = roc_curve(y_test, y_probs)\n",
    "    roc_auc = auc(fpr, tpr)\n",
    "\n",
    "    # Plot ROC curve\n",
    "    plt.plot(fpr, tpr, lw=2, label=f'{name} (AUC = {roc_auc:0.2f})')\n",
    "\n",
    "# Plot settings\n",
    "plt.plot([0, 1], [0, 1], 'k--', lw=2)\n",
    "plt.xlim([0.0, 1.0])\n",
    "plt.ylim([0.0, 1.05])\n",
    "plt.xlabel('False Positive Rate')\n",
    "plt.ylabel('True Positive Rate')\n",
    "plt.title('Receiver Operating Characteristic (ROC) Curve')\n",
    "plt.legend(loc=\"lower right\")\n",
    "plt.show()"
   ]
  },
  {
   "cell_type": "code",
   "execution_count": null,
   "id": "8720efe1",
   "metadata": {},
   "outputs": [],
   "source": []
  },
  {
   "cell_type": "markdown",
   "id": "2e16b765",
   "metadata": {},
   "source": [
    "Since we have 3 principal components, a 3d graph was rendered."
   ]
  },
  {
   "cell_type": "markdown",
   "id": "d5d54210",
   "metadata": {},
   "source": [
    "#### *PCA components explained*\n",
    "\n",
    "Let's see how much of each feature influenced the principal components.\n"
   ]
  },
  {
   "cell_type": "code",
   "execution_count": null,
   "id": "5f033b35",
   "metadata": {},
   "outputs": [],
   "source": [
    "pca_scaled = PCA(n_components=3)\n",
    "new_X_train_scaled_pca = pca_scaled.fit_transform(x_train_scaled)\n",
    "components = pca_scaled.components_\n",
    "evr = pca_scaled.explained_variance_ratio_\n",
    "\n",
    "loadings_scaled = pd.DataFrame(components.T, columns=[f'PC{i+1}' for i in range(components.shape[0])], index=[x_train_scaled.columns])\n",
    "# Sort each column in ascending order\n",
    "sorted_loadings_scaled = loadings_scaled.apply(lambda x: x.sort_values())\n",
    "\n",
    "print(\"\\nSorted Loadings Scaled:\")\n",
    "print(sorted_loadings_scaled)\n",
    "\n",
    "# Print sorted values for each PC individually\n",
    "for i in range(components.shape[0]):\n",
    "    sorted_pc = loadings_scaled[f'PC{i+1}'].sort_values(ascending=True)\n",
    "    print(f\"\\nSorted Loadings for PC{i+1}:\")\n",
    "    print(sorted_pc)"
   ]
  },
  {
   "cell_type": "code",
   "execution_count": null,
   "id": "f788a11a",
   "metadata": {},
   "outputs": [],
   "source": [
    "# Sort and select top 20 features for each component, can change if needed\n",
    "top_features_per_pc = {}\n",
    "num_top_features = 20\n",
    "\n",
    "for pc in loadings_scaled.columns:\n",
    "    top_features = loadings_scaled[pc].abs().sort_values(ascending=False).head(num_top_features).index\n",
    "    top_features_per_pc[pc] = top_features\n",
    "\n",
    "# Get unique top features\n",
    "unique_top_features = list(set([feature for features in top_features_per_pc.values() for feature in features]))\n",
    "\n",
    "# Filter DataFrame to include only top features\n",
    "loadings_scaled_top = loadings_scaled.loc[unique_top_features]\n",
    "\n",
    "# Perform hierarchical clustering on top features\n",
    "Z = linkage(loadings_scaled_top, 'ward')\n",
    "\n",
    "# Plot clustered heatmap\n",
    "sns.clustermap(loadings_scaled_top, annot=True, cmap='coolwarm', linewidths=0.5, figsize=(20, 15), row_cluster=True, col_cluster=False)\n",
    "plt.title('Heatmap of Top Feature Contributions to Principal Components with Clustering')\n",
    "plt.show()"
   ]
  },
  {
   "cell_type": "markdown",
   "id": "137794ee",
   "metadata": {},
   "source": [
    "According to this visualization, within the top 20 features, the 6 that stand out are total payment, number of users, number of providers, average number of providers per county, number of fee for service benficiaries and average number of users per provider."
   ]
  }
 ],
 "metadata": {
  "kernelspec": {
   "display_name": "Python 3 (ipykernel)",
   "language": "python",
   "name": "python3"
  },
  "language_info": {
   "codemirror_mode": {
    "name": "ipython",
    "version": 3
   },
   "file_extension": ".py",
   "mimetype": "text/x-python",
   "name": "python",
   "nbconvert_exporter": "python",
   "pygments_lexer": "ipython3",
   "version": "3.9.12"
  }
 },
 "nbformat": 4,
 "nbformat_minor": 5
}
